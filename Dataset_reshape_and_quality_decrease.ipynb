{
 "cells": [
  {
   "cell_type": "code",
   "execution_count": 67,
   "metadata": {},
   "outputs": [],
   "source": [
    "import torch\n",
    "from PIL import Image\n",
    "import torchvision\n",
    "import pandas as pd\n",
    "import numpy as np\n",
    "import os\n",
    "import cv2\n",
    "import matplotlib.pyplot as plt\n",
    "import json\n",
    "from sklearn.model_selection import train_test_split\n",
    "import yaml"
   ]
  },
  {
   "cell_type": "code",
   "execution_count": 6,
   "metadata": {},
   "outputs": [],
   "source": [
    "IMAGES_FOLDER = './dataset/Images'\n",
    "# ANNOTATION_FOLDER = './dataset/Annotation'\n",
    "\n",
    "NEW_IMG_FOLDER = './resized_dataset/Images'\n",
    "NEW_ANN_FOLDER = './resized_dataset/Annotation'\n",
    "class_mapper = json.load(open('class_mapper.json'))"
   ]
  },
  {
   "cell_type": "code",
   "execution_count": 7,
   "metadata": {},
   "outputs": [],
   "source": [
    "images_df = pd.DataFrame()"
   ]
  },
  {
   "cell_type": "code",
   "execution_count": 8,
   "metadata": {},
   "outputs": [],
   "source": [
    "def getShape(img_path):\n",
    "    im = plt.imread(img_path)\n",
    "    return im.shape"
   ]
  },
  {
   "cell_type": "code",
   "execution_count": 9,
   "metadata": {},
   "outputs": [],
   "source": [
    "for dirpath, dirnames, filenames in os.walk(IMAGES_FOLDER):\n",
    "    rows = []\n",
    "    for i in filenames:\n",
    "        path = os.path.join(dirpath[17:], i)\n",
    "        \n",
    "#         w, h, _ = getShape(os.path.join(IMAGES_FOLDER, path))\n",
    "        w, h = [0, 0]\n",
    "        row = (i, dirpath[17:], path, w, h)\n",
    "        \n",
    "        rows.append(row)\n",
    "        \n",
    "    images_df = images_df.append(rows)\n",
    "    \n",
    "images_df.columns = ['img', 'folder', 'path', 'width', 'height']\n",
    "images_df = images_df.reset_index()\n",
    "images_df = images_df.drop(columns='index')"
   ]
  },
  {
   "cell_type": "code",
   "execution_count": 10,
   "metadata": {},
   "outputs": [
    {
     "data": {
      "text/html": [
       "<div>\n",
       "<style scoped>\n",
       "    .dataframe tbody tr th:only-of-type {\n",
       "        vertical-align: middle;\n",
       "    }\n",
       "\n",
       "    .dataframe tbody tr th {\n",
       "        vertical-align: top;\n",
       "    }\n",
       "\n",
       "    .dataframe thead th {\n",
       "        text-align: right;\n",
       "    }\n",
       "</style>\n",
       "<table border=\"1\" class=\"dataframe\">\n",
       "  <thead>\n",
       "    <tr style=\"text-align: right;\">\n",
       "      <th></th>\n",
       "      <th>img</th>\n",
       "      <th>folder</th>\n",
       "      <th>path</th>\n",
       "      <th>width</th>\n",
       "      <th>height</th>\n",
       "    </tr>\n",
       "  </thead>\n",
       "  <tbody>\n",
       "    <tr>\n",
       "      <th>0</th>\n",
       "      <td>n02085620_10074.jpg</td>\n",
       "      <td>n02085620-Chihuahua</td>\n",
       "      <td>n02085620-Chihuahua\\n02085620_10074.jpg</td>\n",
       "      <td>0</td>\n",
       "      <td>0</td>\n",
       "    </tr>\n",
       "    <tr>\n",
       "      <th>1</th>\n",
       "      <td>n02085620_10131.jpg</td>\n",
       "      <td>n02085620-Chihuahua</td>\n",
       "      <td>n02085620-Chihuahua\\n02085620_10131.jpg</td>\n",
       "      <td>0</td>\n",
       "      <td>0</td>\n",
       "    </tr>\n",
       "    <tr>\n",
       "      <th>2</th>\n",
       "      <td>n02085620_10621.jpg</td>\n",
       "      <td>n02085620-Chihuahua</td>\n",
       "      <td>n02085620-Chihuahua\\n02085620_10621.jpg</td>\n",
       "      <td>0</td>\n",
       "      <td>0</td>\n",
       "    </tr>\n",
       "    <tr>\n",
       "      <th>3</th>\n",
       "      <td>n02085620_1073.jpg</td>\n",
       "      <td>n02085620-Chihuahua</td>\n",
       "      <td>n02085620-Chihuahua\\n02085620_1073.jpg</td>\n",
       "      <td>0</td>\n",
       "      <td>0</td>\n",
       "    </tr>\n",
       "    <tr>\n",
       "      <th>4</th>\n",
       "      <td>n02085620_10976.jpg</td>\n",
       "      <td>n02085620-Chihuahua</td>\n",
       "      <td>n02085620-Chihuahua\\n02085620_10976.jpg</td>\n",
       "      <td>0</td>\n",
       "      <td>0</td>\n",
       "    </tr>\n",
       "  </tbody>\n",
       "</table>\n",
       "</div>"
      ],
      "text/plain": [
       "                   img               folder  \\\n",
       "0  n02085620_10074.jpg  n02085620-Chihuahua   \n",
       "1  n02085620_10131.jpg  n02085620-Chihuahua   \n",
       "2  n02085620_10621.jpg  n02085620-Chihuahua   \n",
       "3   n02085620_1073.jpg  n02085620-Chihuahua   \n",
       "4  n02085620_10976.jpg  n02085620-Chihuahua   \n",
       "\n",
       "                                      path  width  height  \n",
       "0  n02085620-Chihuahua\\n02085620_10074.jpg      0       0  \n",
       "1  n02085620-Chihuahua\\n02085620_10131.jpg      0       0  \n",
       "2  n02085620-Chihuahua\\n02085620_10621.jpg      0       0  \n",
       "3   n02085620-Chihuahua\\n02085620_1073.jpg      0       0  \n",
       "4  n02085620-Chihuahua\\n02085620_10976.jpg      0       0  "
      ]
     },
     "execution_count": 10,
     "metadata": {},
     "output_type": "execute_result"
    }
   ],
   "source": [
    "images_df.head()"
   ]
  },
  {
   "cell_type": "code",
   "execution_count": 7,
   "metadata": {},
   "outputs": [],
   "source": [
    "SIZE = max(round(images_df['width'].mean()), round(images_df['height'].mean()))"
   ]
  },
  {
   "cell_type": "code",
   "execution_count": 50,
   "metadata": {},
   "outputs": [],
   "source": [
    "#RESHAPING IMGS\n",
    "\n",
    "\n",
    "# for img_data in images_df.values:\n",
    "#     file_name = img_data[0]\n",
    "#     folder_name = img_data[1]\n",
    "#     path = os.path.join(IMAGES_FOLDER, img_data[2])\n",
    "#     img = plt.imread(path)\n",
    "#     img = cv2.resize(img, (SIZE,SIZE))\n",
    "#     folder_path = os.path.join(NEW_IMG_FOLDER, folder_name)\n",
    "#     file_path = os.path.join(folder_path, file_name)\n",
    "#     os.makedirs(folder_path, exist_ok=True)\n",
    "#     img = plt.imsave(file_path, img)\n",
    "# #     break"
   ]
  },
  {
   "cell_type": "code",
   "execution_count": 17,
   "metadata": {},
   "outputs": [],
   "source": [
    "images_df['folder'] = images_df['folder'].apply(lambda x: x[10:].lower())"
   ]
  },
  {
   "cell_type": "code",
   "execution_count": 18,
   "metadata": {},
   "outputs": [],
   "source": [
    "images_df['class'] = images_df['folder'].apply(lambda x: class_mapper[x])"
   ]
  },
  {
   "cell_type": "code",
   "execution_count": 22,
   "metadata": {},
   "outputs": [],
   "source": [
    "train, test = train_test_split(images_df, test_size=0.2, stratify = images_df['class'])"
   ]
  },
  {
   "cell_type": "code",
   "execution_count": 38,
   "metadata": {},
   "outputs": [],
   "source": [
    "images_df['type'] = 'train'"
   ]
  },
  {
   "cell_type": "code",
   "execution_count": 58,
   "metadata": {},
   "outputs": [
    {
     "data": {
      "text/html": [
       "<div>\n",
       "<style scoped>\n",
       "    .dataframe tbody tr th:only-of-type {\n",
       "        vertical-align: middle;\n",
       "    }\n",
       "\n",
       "    .dataframe tbody tr th {\n",
       "        vertical-align: top;\n",
       "    }\n",
       "\n",
       "    .dataframe thead th {\n",
       "        text-align: right;\n",
       "    }\n",
       "</style>\n",
       "<table border=\"1\" class=\"dataframe\">\n",
       "  <thead>\n",
       "    <tr style=\"text-align: right;\">\n",
       "      <th></th>\n",
       "      <th>img</th>\n",
       "      <th>folder</th>\n",
       "      <th>path</th>\n",
       "      <th>width</th>\n",
       "      <th>height</th>\n",
       "      <th>class</th>\n",
       "      <th>type</th>\n",
       "    </tr>\n",
       "  </thead>\n",
       "  <tbody>\n",
       "    <tr>\n",
       "      <th>3</th>\n",
       "      <td>n02085620_1073.jpg</td>\n",
       "      <td>chihuahua</td>\n",
       "      <td>n02085620-Chihuahua\\n02085620_1073.jpg</td>\n",
       "      <td>0</td>\n",
       "      <td>0</td>\n",
       "      <td>0</td>\n",
       "      <td>test</td>\n",
       "    </tr>\n",
       "    <tr>\n",
       "      <th>8</th>\n",
       "      <td>n02085620_11337.jpg</td>\n",
       "      <td>chihuahua</td>\n",
       "      <td>n02085620-Chihuahua\\n02085620_11337.jpg</td>\n",
       "      <td>0</td>\n",
       "      <td>0</td>\n",
       "      <td>0</td>\n",
       "      <td>test</td>\n",
       "    </tr>\n",
       "    <tr>\n",
       "      <th>13</th>\n",
       "      <td>n02085620_11948.jpg</td>\n",
       "      <td>chihuahua</td>\n",
       "      <td>n02085620-Chihuahua\\n02085620_11948.jpg</td>\n",
       "      <td>0</td>\n",
       "      <td>0</td>\n",
       "      <td>0</td>\n",
       "      <td>test</td>\n",
       "    </tr>\n",
       "    <tr>\n",
       "      <th>14</th>\n",
       "      <td>n02085620_1205.jpg</td>\n",
       "      <td>chihuahua</td>\n",
       "      <td>n02085620-Chihuahua\\n02085620_1205.jpg</td>\n",
       "      <td>0</td>\n",
       "      <td>0</td>\n",
       "      <td>0</td>\n",
       "      <td>test</td>\n",
       "    </tr>\n",
       "    <tr>\n",
       "      <th>27</th>\n",
       "      <td>n02085620_14413.jpg</td>\n",
       "      <td>chihuahua</td>\n",
       "      <td>n02085620-Chihuahua\\n02085620_14413.jpg</td>\n",
       "      <td>0</td>\n",
       "      <td>0</td>\n",
       "      <td>0</td>\n",
       "      <td>test</td>\n",
       "    </tr>\n",
       "    <tr>\n",
       "      <th>...</th>\n",
       "      <td>...</td>\n",
       "      <td>...</td>\n",
       "      <td>...</td>\n",
       "      <td>...</td>\n",
       "      <td>...</td>\n",
       "      <td>...</td>\n",
       "      <td>...</td>\n",
       "    </tr>\n",
       "    <tr>\n",
       "      <th>20555</th>\n",
       "      <td>n02116738_849.jpg</td>\n",
       "      <td>african_hunting_dog</td>\n",
       "      <td>n02116738-African_hunting_dog\\n02116738_849.jpg</td>\n",
       "      <td>0</td>\n",
       "      <td>0</td>\n",
       "      <td>119</td>\n",
       "      <td>test</td>\n",
       "    </tr>\n",
       "    <tr>\n",
       "      <th>20566</th>\n",
       "      <td>n02116738_8945.jpg</td>\n",
       "      <td>african_hunting_dog</td>\n",
       "      <td>n02116738-African_hunting_dog\\n02116738_8945.jpg</td>\n",
       "      <td>0</td>\n",
       "      <td>0</td>\n",
       "      <td>119</td>\n",
       "      <td>test</td>\n",
       "    </tr>\n",
       "    <tr>\n",
       "      <th>20570</th>\n",
       "      <td>n02116738_9333.jpg</td>\n",
       "      <td>african_hunting_dog</td>\n",
       "      <td>n02116738-African_hunting_dog\\n02116738_9333.jpg</td>\n",
       "      <td>0</td>\n",
       "      <td>0</td>\n",
       "      <td>119</td>\n",
       "      <td>test</td>\n",
       "    </tr>\n",
       "    <tr>\n",
       "      <th>20572</th>\n",
       "      <td>n02116738_9748.jpg</td>\n",
       "      <td>african_hunting_dog</td>\n",
       "      <td>n02116738-African_hunting_dog\\n02116738_9748.jpg</td>\n",
       "      <td>0</td>\n",
       "      <td>0</td>\n",
       "      <td>119</td>\n",
       "      <td>test</td>\n",
       "    </tr>\n",
       "    <tr>\n",
       "      <th>20578</th>\n",
       "      <td>n02116738_9844.jpg</td>\n",
       "      <td>african_hunting_dog</td>\n",
       "      <td>n02116738-African_hunting_dog\\n02116738_9844.jpg</td>\n",
       "      <td>0</td>\n",
       "      <td>0</td>\n",
       "      <td>119</td>\n",
       "      <td>test</td>\n",
       "    </tr>\n",
       "  </tbody>\n",
       "</table>\n",
       "<p>4116 rows × 7 columns</p>\n",
       "</div>"
      ],
      "text/plain": [
       "                       img               folder  \\\n",
       "3       n02085620_1073.jpg            chihuahua   \n",
       "8      n02085620_11337.jpg            chihuahua   \n",
       "13     n02085620_11948.jpg            chihuahua   \n",
       "14      n02085620_1205.jpg            chihuahua   \n",
       "27     n02085620_14413.jpg            chihuahua   \n",
       "...                    ...                  ...   \n",
       "20555    n02116738_849.jpg  african_hunting_dog   \n",
       "20566   n02116738_8945.jpg  african_hunting_dog   \n",
       "20570   n02116738_9333.jpg  african_hunting_dog   \n",
       "20572   n02116738_9748.jpg  african_hunting_dog   \n",
       "20578   n02116738_9844.jpg  african_hunting_dog   \n",
       "\n",
       "                                                   path  width  height  class  \\\n",
       "3                n02085620-Chihuahua\\n02085620_1073.jpg      0       0      0   \n",
       "8               n02085620-Chihuahua\\n02085620_11337.jpg      0       0      0   \n",
       "13              n02085620-Chihuahua\\n02085620_11948.jpg      0       0      0   \n",
       "14               n02085620-Chihuahua\\n02085620_1205.jpg      0       0      0   \n",
       "27              n02085620-Chihuahua\\n02085620_14413.jpg      0       0      0   \n",
       "...                                                 ...    ...     ...    ...   \n",
       "20555   n02116738-African_hunting_dog\\n02116738_849.jpg      0       0    119   \n",
       "20566  n02116738-African_hunting_dog\\n02116738_8945.jpg      0       0    119   \n",
       "20570  n02116738-African_hunting_dog\\n02116738_9333.jpg      0       0    119   \n",
       "20572  n02116738-African_hunting_dog\\n02116738_9748.jpg      0       0    119   \n",
       "20578  n02116738-African_hunting_dog\\n02116738_9844.jpg      0       0    119   \n",
       "\n",
       "       type  \n",
       "3      test  \n",
       "8      test  \n",
       "13     test  \n",
       "14     test  \n",
       "27     test  \n",
       "...     ...  \n",
       "20555  test  \n",
       "20566  test  \n",
       "20570  test  \n",
       "20572  test  \n",
       "20578  test  \n",
       "\n",
       "[4116 rows x 7 columns]"
      ]
     },
     "execution_count": 58,
     "metadata": {},
     "output_type": "execute_result"
    }
   ],
   "source": [
    "images_df.iloc[test.index, 6] = 'test'"
   ]
  },
  {
   "cell_type": "code",
   "execution_count": 61,
   "metadata": {},
   "outputs": [],
   "source": [
    "# # QUALITY DECREASING\n",
    "\n",
    "# quality_list = [5, 15, 25, 35, 50, 70]\n",
    "\n",
    "# for quality in quality_list:\n",
    "    \n",
    "#     qual_folder = f'./resized_dataset/Images_{quality}'\n",
    "    \n",
    "#     for img_data in images_df.values:\n",
    "        \n",
    "#         img_file_name = img_data[0]\n",
    "#         img_path = img_data[2]\n",
    "#         isTrain = img_data[6] == 'train'\n",
    "        \n",
    "#         if isTrain:\n",
    "#             img_folder_name = 'train'\n",
    "#         else:\n",
    "#             img_folder_name = 'test'\n",
    "        \n",
    "#         path = os.path.join(NEW_IMG_FOLDER, img_path)\n",
    "        \n",
    "#         image = Image.open(path)\n",
    "        \n",
    "        \n",
    "#         folder_path = os.path.join(qual_folder, img_folder_name)\n",
    "        \n",
    "#         file_path = os.path.join(folder_path, img_file_name)\n",
    "        \n",
    "#         os.makedirs(folder_path, exist_ok = True)\n",
    "        \n",
    "#         image.save(file_path, \"JPEG\", quality = quality)"
   ]
  },
  {
   "cell_type": "code",
   "execution_count": 27,
   "metadata": {},
   "outputs": [
    {
     "data": {
      "text/plain": [
       "<AxesSubplot:ylabel='Frequency'>"
      ]
     },
     "execution_count": 27,
     "metadata": {},
     "output_type": "execute_result"
    },
    {
     "data": {
      "image/png": "[encoded data removed]",
      "text/plain": [
       "<Figure size 432x288 with 1 Axes>"
      ]
     },
     "metadata": {
      "needs_background": "light"
     },
     "output_type": "display_data"
    }
   ],
   "source": [
    "train['class'].plot(kind='hist', bins=120)"
   ]
  },
  {
   "cell_type": "code",
   "execution_count": 30,
   "metadata": {
    "scrolled": true
   },
   "outputs": [
    {
     "data": {
      "text/plain": [
       "<AxesSubplot:ylabel='Frequency'>"
      ]
     },
     "execution_count": 30,
     "metadata": {},
     "output_type": "execute_result"
    },
    {
     "data": {
      "image/png": "[encoded data removed]",
      "text/plain": [
       "<Figure size 432x288 with 1 Axes>"
      ]
     },
     "metadata": {
      "needs_background": "light"
     },
     "output_type": "display_data"
    }
   ],
   "source": [
    "test['class'].plot(kind='hist', bins=120)"
   ]
  },
  {
   "cell_type": "markdown",
   "metadata": {},
   "source": [
    "## Create yaml files for yolov5 train"
   ]
  },
  {
   "cell_type": "code",
   "execution_count": 62,
   "metadata": {},
   "outputs": [],
   "source": [
    "#Structure\n",
    "\n",
    "# train: PATH\n",
    "# val: PATH\n",
    "# test: PATH (may be skipped)\n",
    "\n",
    "# nc: NUMBER OF CLASSES\n",
    "# names: CLASSES LABELES"
   ]
  },
  {
   "cell_type": "code",
   "execution_count": 65,
   "metadata": {},
   "outputs": [],
   "source": [
    "classes_labels = [i for i in class_mapper.keys()]"
   ]
  },
  {
   "cell_type": "code",
   "execution_count": 91,
   "metadata": {},
   "outputs": [],
   "source": [
    "quality_list = [5, 15, 25, 35, 50, 70]\n",
    "\n",
    "for quality in quality_list:\n",
    "    \n",
    "    cur_path = os.getcwd()\n",
    "    \n",
    "    qual_folder = os.path.join(cur_path, 'resized_dataset', f'Images_{quality}')\n",
    "    \n",
    "    yaml_text = f'''\n",
    "                train: {os.path.join(qual_folder, 'train', 'images')}\n",
    "                val: {os.path.join(qual_folder, 'test', 'images')}\n",
    "                \n",
    "                nc: {len(classes_labels)}\n",
    "                names: {classes_labels}\n",
    "                '''\n",
    "    print(yaml_text, file = open(os.path.join(qual_folder, 'data.yaml'), 'w'))"
   ]
  },
  {
   "cell_type": "code",
   "execution_count": 74,
   "metadata": {},
   "outputs": [
    {
     "data": {
      "text/plain": [
       "<module 'shutil' from 'C:\\\\Users\\\\COM\\\\anaconda3\\\\lib\\\\shutil.py'>"
      ]
     },
     "execution_count": 74,
     "metadata": {},
     "output_type": "execute_result"
    }
   ],
   "source": [
    "shutil.move()"
   ]
  },
  {
   "cell_type": "code",
   "execution_count": 76,
   "metadata": {},
   "outputs": [],
   "source": [
    "images_pathes = [f'Images_{i}' for i in quality_list]\n",
    "\n",
    "for file in images_pathes:\n",
    "    train_path = os.path.join(cur_path, 'resized_dataset', file, 'train')\n",
    "    test_path = os.path.join(cur_path, 'resized_dataset', file, 'test')\n",
    "    \n",
    "    new_img_name = os.path.join(cur_path, 'resized_dataset', file, 'images')\n",
    "    for path in [train_path, test_path]:\n",
    "        os.rename(path, new_img_name)\n",
    "        os.mkdir(path)\n",
    "        shutil.move(new_img_name, path)\n",
    "    \n",
    "    \n",
    "    "
   ]
  },
  {
   "cell_type": "code",
   "execution_count": 90,
   "metadata": {},
   "outputs": [],
   "source": [
    "ANN_FOLDER = os.path.join(cur_path, 'resized_dataset', 'Annotation_yolo')\n",
    "\n",
    "for file in images_pathes:\n",
    "    train_path = os.path.join(cur_path, 'resized_dataset', file, 'train')\n",
    "    test_path = os.path.join(cur_path, 'resized_dataset', file, 'test')\n",
    "    \n",
    "    \n",
    "    for path in [train_path, test_path]:\n",
    "        new_ann_name = os.path.join(path, 'labels')\n",
    "        \n",
    "        for _,_,filenames in os.walk(path):\n",
    "            filenames = [i[:-4] for i in filenames]\n",
    "        \n",
    "        \n",
    "        os.mkdir(new_ann_name)\n",
    "        \n",
    "        for file in filenames:\n",
    "            src_path = os.path.join(ANN_FOLDER, file)\n",
    "            dest_path = os.path.join(new_ann_name)\n",
    "            shutil.copy(src_path, dest_path)\n",
    "            "
   ]
  },
  {
   "cell_type": "code",
   "execution_count": 77,
   "metadata": {},
   "outputs": [],
   "source": [
    "train_path = os.path.join(cur_path, 'resized_dataset', file, 'train','images')"
   ]
  },
  {
   "cell_type": "code",
   "execution_count": 78,
   "metadata": {},
   "outputs": [],
   "source": [
    "import glob"
   ]
  },
  {
   "cell_type": "code",
   "execution_count": 89,
   "metadata": {},
   "outputs": [
    {
     "data": {
      "text/plain": [
       "'n02085620_10074'"
      ]
     },
     "execution_count": 89,
     "metadata": {},
     "output_type": "execute_result"
    }
   ],
   "source": [
    " filenames[0][:-4]"
   ]
  },
  {
   "cell_type": "code",
   "execution_count": 94,
   "metadata": {},
   "outputs": [],
   "source": [
    "for file in images_pathes:\n",
    "    train_path = os.path.join(cur_path, 'resized_dataset', file, 'train')\n",
    "    test_path = os.path.join(cur_path, 'resized_dataset', file, 'test')\n",
    "    \n",
    "    \n",
    "    for path in [train_path, test_path]:\n",
    "        ann_name = os.path.join(path, 'labels')\n",
    "        \n",
    "        for _,_,filenames in os.walk(ann_name):\n",
    "            pass\n",
    "        \n",
    "        for file in filenames:\n",
    "            file = os.path.join(ann_name, file)\n",
    "            new_name = os.path.join(ann_name, file + '.txt')\n",
    "            os.rename(file, new_name)\n",
    "            "
   ]
  },
  {
   "cell_type": "code",
   "execution_count": null,
   "metadata": {},
   "outputs": [],
   "source": []
  }
 ],
 "metadata": {
  "kernelspec": {
   "display_name": "Python 3",
   "language": "python",
   "name": "python3"
  },
  "language_info": {
   "codemirror_mode": {
    "name": "ipython",
    "version": 3
   },
   "file_extension": ".py",
   "mimetype": "text/x-python",
   "name": "python",
   "nbconvert_exporter": "python",
   "pygments_lexer": "ipython3",
   "version": "3.8.3"
  }
 },
 "nbformat": 4,
 "nbformat_minor": 4
}
