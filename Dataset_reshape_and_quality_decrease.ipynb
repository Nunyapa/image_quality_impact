{
 "cells": [
  {
   "cell_type": "code",
   "execution_count": 1,
   "metadata": {},
   "outputs": [],
   "source": [
    "import torch\n",
    "from PIL import Image\n",
    "import torchvision\n",
    "import pandas as pd\n",
    "import numpy as np\n",
    "import os\n",
    "import cv2\n",
    "import matplotlib.pyplot as plt"
   ]
  },
  {
   "cell_type": "code",
   "execution_count": 2,
   "metadata": {},
   "outputs": [],
   "source": [
    "IMAGES_FOLDER = './dataset/Images'\n",
    "ANNOTATION_FOLDER = './dataset/Annotation'"
   ]
  },
  {
   "cell_type": "code",
   "execution_count": 3,
   "metadata": {},
   "outputs": [],
   "source": [
    "images_df = pd.DataFrame()"
   ]
  },
  {
   "cell_type": "code",
   "execution_count": 4,
   "metadata": {},
   "outputs": [],
   "source": [
    "def getShape(img_path):\n",
    "    im = plt.imread(img_path)\n",
    "    return im.shape"
   ]
  },
  {
   "cell_type": "code",
   "execution_count": 5,
   "metadata": {},
   "outputs": [],
   "source": [
    "for dirpath, dirnames, filenames in os.walk(IMAGES_FOLDER):\n",
    "    rows = []\n",
    "    for i in filenames:\n",
    "        path = os.path.join(dirpath[17:], i)\n",
    "        \n",
    "        w, h, _ = getShape(os.path.join(IMAGES_FOLDER, path))\n",
    "        \n",
    "        row = (i, dirpath[17:], path, w, h)\n",
    "        \n",
    "        rows.append(row)\n",
    "        \n",
    "    images_df = images_df.append(rows)\n",
    "    \n",
    "images_df.columns = ['img', 'folder', 'path', 'width', 'height']\n",
    "images_df = images_df.reset_index()\n",
    "images_df = images_df.drop(columns='index')"
   ]
  },
  {
   "cell_type": "code",
   "execution_count": 6,
   "metadata": {},
   "outputs": [
    {
     "data": {
      "text/html": [
       "<div>\n",
       "<style scoped>\n",
       "    .dataframe tbody tr th:only-of-type {\n",
       "        vertical-align: middle;\n",
       "    }\n",
       "\n",
       "    .dataframe tbody tr th {\n",
       "        vertical-align: top;\n",
       "    }\n",
       "\n",
       "    .dataframe thead th {\n",
       "        text-align: right;\n",
       "    }\n",
       "</style>\n",
       "<table border=\"1\" class=\"dataframe\">\n",
       "  <thead>\n",
       "    <tr style=\"text-align: right;\">\n",
       "      <th></th>\n",
       "      <th>img</th>\n",
       "      <th>folder</th>\n",
       "      <th>path</th>\n",
       "      <th>width</th>\n",
       "      <th>height</th>\n",
       "    </tr>\n",
       "  </thead>\n",
       "  <tbody>\n",
       "    <tr>\n",
       "      <th>0</th>\n",
       "      <td>n02085620_10074.jpg</td>\n",
       "      <td>n02085620-Chihuahua</td>\n",
       "      <td>n02085620-Chihuahua\\n02085620_10074.jpg</td>\n",
       "      <td>500</td>\n",
       "      <td>333</td>\n",
       "    </tr>\n",
       "    <tr>\n",
       "      <th>1</th>\n",
       "      <td>n02085620_10131.jpg</td>\n",
       "      <td>n02085620-Chihuahua</td>\n",
       "      <td>n02085620-Chihuahua\\n02085620_10131.jpg</td>\n",
       "      <td>495</td>\n",
       "      <td>395</td>\n",
       "    </tr>\n",
       "    <tr>\n",
       "      <th>2</th>\n",
       "      <td>n02085620_10621.jpg</td>\n",
       "      <td>n02085620-Chihuahua</td>\n",
       "      <td>n02085620-Chihuahua\\n02085620_10621.jpg</td>\n",
       "      <td>298</td>\n",
       "      <td>500</td>\n",
       "    </tr>\n",
       "    <tr>\n",
       "      <th>3</th>\n",
       "      <td>n02085620_1073.jpg</td>\n",
       "      <td>n02085620-Chihuahua</td>\n",
       "      <td>n02085620-Chihuahua\\n02085620_1073.jpg</td>\n",
       "      <td>500</td>\n",
       "      <td>345</td>\n",
       "    </tr>\n",
       "    <tr>\n",
       "      <th>4</th>\n",
       "      <td>n02085620_10976.jpg</td>\n",
       "      <td>n02085620-Chihuahua</td>\n",
       "      <td>n02085620-Chihuahua\\n02085620_10976.jpg</td>\n",
       "      <td>484</td>\n",
       "      <td>322</td>\n",
       "    </tr>\n",
       "  </tbody>\n",
       "</table>\n",
       "</div>"
      ],
      "text/plain": [
       "                   img               folder  \\\n",
       "0  n02085620_10074.jpg  n02085620-Chihuahua   \n",
       "1  n02085620_10131.jpg  n02085620-Chihuahua   \n",
       "2  n02085620_10621.jpg  n02085620-Chihuahua   \n",
       "3   n02085620_1073.jpg  n02085620-Chihuahua   \n",
       "4  n02085620_10976.jpg  n02085620-Chihuahua   \n",
       "\n",
       "                                      path  width  height  \n",
       "0  n02085620-Chihuahua\\n02085620_10074.jpg    500     333  \n",
       "1  n02085620-Chihuahua\\n02085620_10131.jpg    495     395  \n",
       "2  n02085620-Chihuahua\\n02085620_10621.jpg    298     500  \n",
       "3   n02085620-Chihuahua\\n02085620_1073.jpg    500     345  \n",
       "4  n02085620-Chihuahua\\n02085620_10976.jpg    484     322  "
      ]
     },
     "execution_count": 6,
     "metadata": {},
     "output_type": "execute_result"
    }
   ],
   "source": [
    "images_df.head()"
   ]
  },
  {
   "cell_type": "code",
   "execution_count": 7,
   "metadata": {},
   "outputs": [],
   "source": [
    "SIZE = max(round(images_df['width'].mean()), round(images_df['height'].mean()))"
   ]
  },
  {
   "cell_type": "code",
   "execution_count": 11,
   "metadata": {
    "scrolled": false
   },
   "outputs": [
    {
     "name": "stdout",
     "output_type": "stream",
     "text": [
      " ’®¬ ў гбва®©бвўҐ D Ё¬ҐҐв ¬ҐвЄг Ќ®ўл© в®¬\n",
      " ‘ҐаЁ©­л© ­®¬Ґа в®¬ : EAEC-34CD\n",
      "\n",
      " ‘®¤Ґа¦Ё¬®Ґ Ї ЇЄЁ D:\\diploma\n",
      "\n",
      "21.04.2021  15:46    <DIR>          .\n",
      "21.04.2021  15:46    <DIR>          ..\n",
      "10.04.2021  09:08                28 .gitignore\n",
      "20.04.2021  08:54    <DIR>          .idea\n",
      "20.04.2021  10:22    <DIR>          .ipynb_checkpoints\n",
      "20.04.2021  15:28    <DIR>          3semestr\n",
      "20.04.2021  15:17             2я896 Annotation_changer_yolov5.ipynb\n",
      "20.04.2021  15:16             2я561 class_mapper.json\n",
      "20.04.2021  08:54    <DIR>          dataset\n",
      "10.04.2021  09:07    <DIR>          models\n",
      "21.04.2021  15:46    <DIR>          resized_dataset\n",
      "21.04.2021  15:46           121я644 Untitled.ipynb\n",
      "               4 д ©«®ў        127я129 Ў ©в\n",
      "               8 Ї Ї®Є  246я800я916я480 Ў ©в бў®Ў®¤­®\n"
     ]
    }
   ],
   "source": [
    "!dir"
   ]
  },
  {
   "cell_type": "code",
   "execution_count": 50,
   "metadata": {},
   "outputs": [],
   "source": [
    "#RESHAPING IMGS\n",
    "\n",
    "NEW_IMG_FOLDER = './resized_dataset/Images'\n",
    "NEW_ANN_FOLDER = './resized_dataset/Annotation'\n",
    "\n",
    "# for img_data in images_df.values:\n",
    "#     file_name = img_data[0]\n",
    "#     folder_name = img_data[1]\n",
    "#     path = os.path.join(IMAGES_FOLDER, img_data[2])\n",
    "#     img = plt.imread(path)\n",
    "#     img = cv2.resize(img, (SIZE,SIZE))\n",
    "#     folder_path = os.path.join(NEW_IMG_FOLDER, folder_name)\n",
    "#     file_path = os.path.join(folder_path, file_name)\n",
    "#     os.makedirs(folder_path, exist_ok=True)\n",
    "#     img = plt.imsave(file_path, img)\n",
    "# #     break"
   ]
  },
  {
   "cell_type": "code",
   "execution_count": 52,
   "metadata": {},
   "outputs": [],
   "source": [
    "#QUALITY DECREASING\n",
    "\n",
    "# quality_list = [5, 15, 25, 35, 50, 70]\n",
    "\n",
    "# for quality in quality_list:\n",
    "    \n",
    "#     qual_folder = f'./resized_dataset/Images_{quality}'\n",
    "    \n",
    "#     for img_data in images_df.values:\n",
    "        \n",
    "#         img_file_name = img_data[0]\n",
    "#         img_folder_name = img_data[1]\n",
    "#         img_path = img_data[2]\n",
    "        \n",
    "#         path = os.path.join(NEW_IMG_FOLDER, img_path)\n",
    "        \n",
    "#         image = Image.open(path)\n",
    "        \n",
    "#         folder_path = os.path.join(qual_folder, img_folder_name)\n",
    "        \n",
    "#         file_path = os.path.join(folder_path, img_file_name)\n",
    "        \n",
    "#         os.makedirs(folder_path, exist_ok = True)\n",
    "        \n",
    "#         image.save(file_path, \"JPEG\", quality = quality)"
   ]
  },
  {
   "cell_type": "code",
   "execution_count": null,
   "metadata": {},
   "outputs": [],
   "source": []
  }
 ],
 "metadata": {
  "kernelspec": {
   "display_name": "Python 3",
   "language": "python",
   "name": "python3"
  },
  "language_info": {
   "codemirror_mode": {
    "name": "ipython",
    "version": 3
   },
   "file_extension": ".py",
   "mimetype": "text/x-python",
   "name": "python",
   "nbconvert_exporter": "python",
   "pygments_lexer": "ipython3",
   "version": "3.8.3"
  }
 },
 "nbformat": 4,
 "nbformat_minor": 4
}
