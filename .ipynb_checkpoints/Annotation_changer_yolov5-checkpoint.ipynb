{
 "cells": [
  {
   "cell_type": "code",
   "execution_count": 48,
   "metadata": {},
   "outputs": [],
   "source": [
    "import os\n",
    "import json\n",
    "from xml.etree import cElementTree as ET"
   ]
  },
  {
   "cell_type": "code",
   "execution_count": 2,
   "metadata": {},
   "outputs": [],
   "source": [
    "ANNOTATION_FOLDER = './dataset/Annotation'"
   ]
  },
  {
   "cell_type": "code",
   "execution_count": 10,
   "metadata": {},
   "outputs": [],
   "source": [
    "files = []\n",
    "for dirpath, dirnames, filenames in os.walk(ANNOTATION_FOLDER):\n",
    "    for i in filenames:\n",
    "        files.append(os.path.join(dirpath, i))"
   ]
  },
  {
   "cell_type": "code",
   "execution_count": 140,
   "metadata": {},
   "outputs": [],
   "source": [
    "class_mapper = json.load(open('class_mapper.json'))"
   ]
  },
  {
   "cell_type": "code",
   "execution_count": 120,
   "metadata": {},
   "outputs": [],
   "source": [
    "def xmlStrAnnotationParse(xml_str):\n",
    "    '''returns yolo format bounding box\n",
    "        class, x, y, width, height\n",
    "        \n",
    "        class is a number of class\n",
    "        x is the leftmost x (x_min)\n",
    "        y is the lowest y (y_max)\n",
    "        width = x_max - x_min\n",
    "        height = y_max - y_min\n",
    "    '''\n",
    "    \n",
    "    root = ET.fromstring(xml_str)\n",
    "    img_width = int(root[3][0].text)\n",
    "    img_height = int(root[3][1].text)\n",
    "    img_depth = int(root[3][2].text)\n",
    "    \n",
    "    bndboxes = []\n",
    "    \n",
    "    #normalized\n",
    "    for child in root:\n",
    "        if child.tag == 'object':\n",
    "            cls = class_mapper[child[0].text.lower()]\n",
    "            bndbox_xmin = int(child[4][0].text) / img_width\n",
    "            bndbox_ymin = int(child[4][1].text) / img_height\n",
    "            bndbox_xmax = int(child[4][2].text) / img_width\n",
    "            bndbox_ymax = int(child[4][3].text) / img_height\n",
    "            \n",
    "            x = round(bndbox_xmin, 4)\n",
    "            y = round(bndbox_ymax, 4)\n",
    "            \n",
    "            bndbox_width = round(bndbox_xmax - bndbox_xmin, 4)\n",
    "            bndbox_height = round(bndbox_ymax - bndbox_ymin, 4)\n",
    "            \n",
    "            bndboxes.append([cls, x, y, bndbox_width, bndbox_height])\n",
    "    \n",
    "    return bndboxes "
   ]
  }
 ],
 "metadata": {
  "kernelspec": {
   "display_name": "Python 3",
   "language": "python",
   "name": "python3"
  },
  "language_info": {
   "codemirror_mode": {
    "name": "ipython",
    "version": 3
   },
   "file_extension": ".py",
   "mimetype": "text/x-python",
   "name": "python",
   "nbconvert_exporter": "python",
   "pygments_lexer": "ipython3",
   "version": "3.8.3"
  }
 },
 "nbformat": 4,
 "nbformat_minor": 4
}
