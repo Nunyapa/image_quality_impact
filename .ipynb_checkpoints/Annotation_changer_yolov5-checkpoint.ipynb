{
 "cells": [
  {
   "cell_type": "code",
   "execution_count": 1,
   "metadata": {},
   "outputs": [],
   "source": [
    "import os\n",
    "import json\n",
    "from xml.etree import cElementTree as ET"
   ]
  },
  {
   "cell_type": "code",
   "execution_count": 2,
   "metadata": {},
   "outputs": [],
   "source": [
    "ANNOTATION_FOLDER = './resized_dataset/Annotation'"
   ]
  },
  {
   "cell_type": "code",
   "execution_count": 14,
   "metadata": {},
   "outputs": [],
   "source": [
    "files_path = []\n",
    "files_names = []\n",
    "for dirpath, dirnames, filenames in os.walk(ANNOTATION_FOLDER):\n",
    "    for i in filenames:\n",
    "        files_names.append(i)\n",
    "        files_path.append(os.path.join(dirpath, i))"
   ]
  },
  {
   "cell_type": "code",
   "execution_count": 4,
   "metadata": {},
   "outputs": [],
   "source": [
    "class_mapper = json.load(open('class_mapper.json'))"
   ]
  },
  {
   "cell_type": "code",
   "execution_count": 5,
   "metadata": {},
   "outputs": [],
   "source": [
    "def xmlStrAnnotationParse(xml_str):\n",
    "    '''returns yolo format bounding box\n",
    "        class, x, y, width, height\n",
    "        \n",
    "        class is a number of class\n",
    "        x is the leftmost x (x_min)\n",
    "        y is the lowest y (y_max)\n",
    "        width = x_max - x_min\n",
    "        height = y_max - y_min\n",
    "    '''\n",
    "    \n",
    "    root = ET.fromstring(xml_str)\n",
    "    img_width = int(root[3][0].text)\n",
    "    img_height = int(root[3][1].text)\n",
    "    img_depth = int(root[3][2].text)\n",
    "    \n",
    "    bndboxes = []\n",
    "    \n",
    "    #normalized\n",
    "    for child in root:\n",
    "        if child.tag == 'object':\n",
    "            cls = class_mapper[child[0].text.lower()]\n",
    "            bndbox_xmin = int(child[4][0].text) / img_width\n",
    "            bndbox_ymin = int(child[4][1].text) / img_height\n",
    "            bndbox_xmax = int(child[4][2].text) / img_width\n",
    "            bndbox_ymax = int(child[4][3].text) / img_height\n",
    "            \n",
    "            x = round(bndbox_xmin, 4)\n",
    "            y = round(bndbox_ymax, 4)\n",
    "            \n",
    "            bndbox_width = round(bndbox_xmax - bndbox_xmin, 4)\n",
    "            bndbox_height = round(bndbox_ymax - bndbox_ymin, 4)\n",
    "            \n",
    "            bndboxes.append([cls, x, y, bndbox_width, bndbox_height])\n",
    "    \n",
    "    return bndboxes "
   ]
  },
  {
   "cell_type": "code",
   "execution_count": 16,
   "metadata": {},
   "outputs": [],
   "source": [
    "YOLO_ANN_FOLDER = './resized_dataset/Annotation_yolo'"
   ]
  },
  {
   "cell_type": "code",
   "execution_count": 22,
   "metadata": {},
   "outputs": [],
   "source": [
    "for idx in range(len(files_path)):\n",
    "    file_path = files_path[idx]\n",
    "    file_name = files_names[idx]\n",
    "    \n",
    "    with open(file_path) as f:\n",
    "        xml_str = f.read()\n",
    "    \n",
    "    bndboxes = xmlStrAnnotationParse(xml_str)\n",
    "    new_path = os.path.join(YOLO_ANN_FOLDER, file_name)\n",
    "    bndboxes = [' '.join([str(j) for j in i]) for i in bndboxes]\n",
    "    print(*bndboxes, sep='\\n', file=open(new_path, 'w'))"
   ]
  },
  {
   "cell_type": "code",
   "execution_count": null,
   "metadata": {},
   "outputs": [],
   "source": []
  }
 ],
 "metadata": {
  "kernelspec": {
   "display_name": "Python 3",
   "language": "python",
   "name": "python3"
  },
  "language_info": {
   "codemirror_mode": {
    "name": "ipython",
    "version": 3
   },
   "file_extension": ".py",
   "mimetype": "text/x-python",
   "name": "python",
   "nbconvert_exporter": "python",
   "pygments_lexer": "ipython3",
   "version": "3.8.3"
  }
 },
 "nbformat": 4,
 "nbformat_minor": 4
}
